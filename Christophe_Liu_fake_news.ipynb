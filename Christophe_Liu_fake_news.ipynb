{
 "cells": [
  {
   "cell_type": "markdown",
   "metadata": {},
   "source": [
    "# Background\n",
    "    The purpose of this notebook is to extract from the liar dataset [https://www.cs.ucsb.edu/~william/data/liar_dataset.zip] the 15 features out of the feature list in the paper [https://arxiv.org/pdf/1812.00315.pdf], and train models on the datasets, and analyze the efficacy of different features with multiple ML models.\n",
    "    The following codes are written based on online forum, public repositories, and with help from project team member.\n",
    "    Notably, many feature extraction techniques are based on repository: [https://github.com/nishitpatel01/Fake_News_Detection]"
   ]
  },
  {
   "cell_type": "markdown",
   "metadata": {},
   "source": [
    "# 15 features  to extract and train:\n",
    "- Quantity\n",
    "    - Character count\n",
    "    - Word count\n",
    "    - Sentence count\n",
    "    - Paragraph count\n",
    "- Complexity\n",
    "    - Average number of characters per word\n",
    "    - Average number of punctuations per sentence\n",
    "- Uncertainty\n",
    "    - Percentage of certainty terms\n",
    "    - Percentage of generalizing terms\n",
    "    - Percentage of numbers and quantifiers\n",
    "- Subjectivity\n",
    "    - Percentage of imperative commands\n",
    "- Non-immediacy\n",
    "    - Percentage of rhetorical questions\n",
    "- Sentiment\n",
    "    - Number of exclamation marks\n",
    "- Diversity\n",
    "    - Content word diversity: unique content words (%)\n",
    "- Informality\n",
    "    - Typographical error ratio: misspelled words (%)\n",
    "- Specificity\n",
    "    - Temporal ratio\n",
    "    "
   ]
  },
  {
   "cell_type": "markdown",
   "metadata": {},
   "source": [
    "# library and dataset import"
   ]
  },
  {
   "cell_type": "code",
   "execution_count": 17,
   "metadata": {},
   "outputs": [],
   "source": [
    "import numpy as np\n",
    "import pandas as pd\n",
    "import csv\n",
    "\n",
    "from sklearn.feature_extraction.text import CountVectorizer\n",
    "import nltk\n",
    "from nltk.tokenize import RegexpTokenizer\n",
    "from nltk.tokenize import word_tokenize\n",
    "from nltk.tokenize import WordPunctTokenizer\n",
    "from nltk.tokenize import sent_tokenize\n",
    "\n",
    "from sklearn import preprocessing\n",
    "from sklearn.preprocessing import StandardScaler\n",
    "from sklearn.pipeline import make_pipeline, Pipeline, FeatureUnion\n",
    "\n",
    "from sklearn.ensemble import RandomForestRegressor #random forest model family\n",
    "from sklearn.model_selection import GridSearchCV\n",
    "from sklearn.naive_bayes import GaussianNB\n",
    "from sklearn.svm import LinearSVC\n",
    "from sklearn.neighbors import KNeighborsClassifier # KNN model\n",
    "\n",
    "from sklearn.metrics import accuracy_score\n",
    "from sklearn.metrics import confusion_matrix\n",
    "from sklearn.metrics import f1_score\n",
    "\n",
    "import re\n",
    "from collections import Counter\n",
    "\n",
    "import seaborn as sb\n",
    "from yellowbrick.classifier import ClassificationReport\n",
    "\n",
    "#dataset import\n",
    "headernames = ['ID', 'label', 'statement', 'subject', 'speaker', 'speaker_job', 'state', 'party', 'barely true', 'false', 'half true', 'mostly ture', 'pants on fire', 'context']\n",
    "train_data = pd.read_csv('./train.tsv', delimiter = '\\t', names = headernames)\n",
    "test_data = pd.read_csv('./test.tsv', delimiter = '\\t', names = headernames)\n",
    "valid_data = pd.read_csv('./valid.tsv', delimiter = '\\t', names = headernames)\n",
    "\n",
    "#display image in notebook\n",
    "from IPython.display import Image\n",
    "from IPython.core.display import HTML \n",
    "\n",
    "#to display multiple outputs per cell, not just the last output\n",
    "from IPython.core.interactiveshell import InteractiveShell\n",
    "InteractiveShell.ast_node_interactivity = \"all\""
   ]
  },
  {
   "cell_type": "markdown",
   "metadata": {},
   "source": [
    "# Data exploration"
   ]
  },
  {
   "cell_type": "code",
   "execution_count": 18,
   "metadata": {},
   "outputs": [
    {
     "data": {
      "text/plain": [
       "(10240, 14)"
      ]
     },
     "execution_count": 18,
     "metadata": {},
     "output_type": "execute_result"
    },
    {
     "data": {
      "text/plain": [
       "(1267, 14)"
      ]
     },
     "execution_count": 18,
     "metadata": {},
     "output_type": "execute_result"
    },
    {
     "data": {
      "text/plain": [
       "(1284, 14)"
      ]
     },
     "execution_count": 18,
     "metadata": {},
     "output_type": "execute_result"
    }
   ],
   "source": [
    "train_data.shape #(number of samples, number of features)\n",
    "test_data.shape\n",
    "valid_data.shape"
   ]
  },
  {
   "cell_type": "code",
   "execution_count": 19,
   "metadata": {},
   "outputs": [
    {
     "data": {
      "text/html": [
       "<div>\n",
       "<style scoped>\n",
       "    .dataframe tbody tr th:only-of-type {\n",
       "        vertical-align: middle;\n",
       "    }\n",
       "\n",
       "    .dataframe tbody tr th {\n",
       "        vertical-align: top;\n",
       "    }\n",
       "\n",
       "    .dataframe thead th {\n",
       "        text-align: right;\n",
       "    }\n",
       "</style>\n",
       "<table border=\"1\" class=\"dataframe\">\n",
       "  <thead>\n",
       "    <tr style=\"text-align: right;\">\n",
       "      <th></th>\n",
       "      <th>ID</th>\n",
       "      <th>label</th>\n",
       "      <th>statement</th>\n",
       "      <th>subject</th>\n",
       "      <th>speaker</th>\n",
       "      <th>speaker_job</th>\n",
       "      <th>state</th>\n",
       "      <th>party</th>\n",
       "      <th>barely true</th>\n",
       "      <th>false</th>\n",
       "      <th>half true</th>\n",
       "      <th>mostly ture</th>\n",
       "      <th>pants on fire</th>\n",
       "      <th>context</th>\n",
       "    </tr>\n",
       "  </thead>\n",
       "  <tbody>\n",
       "    <tr>\n",
       "      <td>0</td>\n",
       "      <td>2635.json</td>\n",
       "      <td>false</td>\n",
       "      <td>Says the Annies List political group supports ...</td>\n",
       "      <td>abortion</td>\n",
       "      <td>dwayne-bohac</td>\n",
       "      <td>State representative</td>\n",
       "      <td>Texas</td>\n",
       "      <td>republican</td>\n",
       "      <td>0.0</td>\n",
       "      <td>1.0</td>\n",
       "      <td>0.0</td>\n",
       "      <td>0.0</td>\n",
       "      <td>0.0</td>\n",
       "      <td>a mailer</td>\n",
       "    </tr>\n",
       "  </tbody>\n",
       "</table>\n",
       "</div>"
      ],
      "text/plain": [
       "          ID  label                                          statement  \\\n",
       "0  2635.json  false  Says the Annies List political group supports ...   \n",
       "\n",
       "    subject       speaker           speaker_job  state       party  \\\n",
       "0  abortion  dwayne-bohac  State representative  Texas  republican   \n",
       "\n",
       "   barely true  false  half true  mostly ture  pants on fire   context  \n",
       "0          0.0    1.0        0.0          0.0            0.0  a mailer  "
      ]
     },
     "execution_count": 19,
     "metadata": {},
     "output_type": "execute_result"
    },
    {
     "data": {
      "text/html": [
       "<div>\n",
       "<style scoped>\n",
       "    .dataframe tbody tr th:only-of-type {\n",
       "        vertical-align: middle;\n",
       "    }\n",
       "\n",
       "    .dataframe tbody tr th {\n",
       "        vertical-align: top;\n",
       "    }\n",
       "\n",
       "    .dataframe thead th {\n",
       "        text-align: right;\n",
       "    }\n",
       "</style>\n",
       "<table border=\"1\" class=\"dataframe\">\n",
       "  <thead>\n",
       "    <tr style=\"text-align: right;\">\n",
       "      <th></th>\n",
       "      <th>ID</th>\n",
       "      <th>label</th>\n",
       "      <th>statement</th>\n",
       "      <th>subject</th>\n",
       "      <th>speaker</th>\n",
       "      <th>speaker_job</th>\n",
       "      <th>state</th>\n",
       "      <th>party</th>\n",
       "      <th>barely true</th>\n",
       "      <th>false</th>\n",
       "      <th>half true</th>\n",
       "      <th>mostly ture</th>\n",
       "      <th>pants on fire</th>\n",
       "      <th>context</th>\n",
       "    </tr>\n",
       "  </thead>\n",
       "  <tbody>\n",
       "    <tr>\n",
       "      <td>0</td>\n",
       "      <td>11972.json</td>\n",
       "      <td>true</td>\n",
       "      <td>Building a wall on the U.S.-Mexico border will...</td>\n",
       "      <td>immigration</td>\n",
       "      <td>rick-perry</td>\n",
       "      <td>Governor</td>\n",
       "      <td>Texas</td>\n",
       "      <td>republican</td>\n",
       "      <td>30</td>\n",
       "      <td>30</td>\n",
       "      <td>42</td>\n",
       "      <td>23</td>\n",
       "      <td>18</td>\n",
       "      <td>Radio interview</td>\n",
       "    </tr>\n",
       "  </tbody>\n",
       "</table>\n",
       "</div>"
      ],
      "text/plain": [
       "           ID label                                          statement  \\\n",
       "0  11972.json  true  Building a wall on the U.S.-Mexico border will...   \n",
       "\n",
       "       subject     speaker speaker_job  state       party  barely true  false  \\\n",
       "0  immigration  rick-perry    Governor  Texas  republican           30     30   \n",
       "\n",
       "   half true  mostly ture  pants on fire          context  \n",
       "0         42           23             18  Radio interview  "
      ]
     },
     "execution_count": 19,
     "metadata": {},
     "output_type": "execute_result"
    },
    {
     "data": {
      "text/html": [
       "<div>\n",
       "<style scoped>\n",
       "    .dataframe tbody tr th:only-of-type {\n",
       "        vertical-align: middle;\n",
       "    }\n",
       "\n",
       "    .dataframe tbody tr th {\n",
       "        vertical-align: top;\n",
       "    }\n",
       "\n",
       "    .dataframe thead th {\n",
       "        text-align: right;\n",
       "    }\n",
       "</style>\n",
       "<table border=\"1\" class=\"dataframe\">\n",
       "  <thead>\n",
       "    <tr style=\"text-align: right;\">\n",
       "      <th></th>\n",
       "      <th>ID</th>\n",
       "      <th>label</th>\n",
       "      <th>statement</th>\n",
       "      <th>subject</th>\n",
       "      <th>speaker</th>\n",
       "      <th>speaker_job</th>\n",
       "      <th>state</th>\n",
       "      <th>party</th>\n",
       "      <th>barely true</th>\n",
       "      <th>false</th>\n",
       "      <th>half true</th>\n",
       "      <th>mostly ture</th>\n",
       "      <th>pants on fire</th>\n",
       "      <th>context</th>\n",
       "    </tr>\n",
       "  </thead>\n",
       "  <tbody>\n",
       "    <tr>\n",
       "      <td>0</td>\n",
       "      <td>12134.json</td>\n",
       "      <td>barely-true</td>\n",
       "      <td>We have less Americans working now than in the...</td>\n",
       "      <td>economy,jobs</td>\n",
       "      <td>vicky-hartzler</td>\n",
       "      <td>U.S. Representative</td>\n",
       "      <td>Missouri</td>\n",
       "      <td>republican</td>\n",
       "      <td>1</td>\n",
       "      <td>0</td>\n",
       "      <td>1</td>\n",
       "      <td>0</td>\n",
       "      <td>0</td>\n",
       "      <td>an interview with ABC17 News</td>\n",
       "    </tr>\n",
       "  </tbody>\n",
       "</table>\n",
       "</div>"
      ],
      "text/plain": [
       "           ID        label                                          statement  \\\n",
       "0  12134.json  barely-true  We have less Americans working now than in the...   \n",
       "\n",
       "        subject         speaker          speaker_job     state       party  \\\n",
       "0  economy,jobs  vicky-hartzler  U.S. Representative  Missouri  republican   \n",
       "\n",
       "   barely true  false  half true  mostly ture  pants on fire  \\\n",
       "0            1      0          1            0              0   \n",
       "\n",
       "                        context  \n",
       "0  an interview with ABC17 News  "
      ]
     },
     "execution_count": 19,
     "metadata": {},
     "output_type": "execute_result"
    },
    {
     "data": {
      "text/plain": [
       "ID                object\n",
       "label             object\n",
       "statement         object\n",
       "subject           object\n",
       "speaker           object\n",
       "speaker_job       object\n",
       "state             object\n",
       "party             object\n",
       "barely true      float64\n",
       "false            float64\n",
       "half true        float64\n",
       "mostly ture      float64\n",
       "pants on fire    float64\n",
       "context           object\n",
       "dtype: object"
      ]
     },
     "execution_count": 19,
     "metadata": {},
     "output_type": "execute_result"
    },
    {
     "data": {
      "text/html": [
       "<div>\n",
       "<style scoped>\n",
       "    .dataframe tbody tr th:only-of-type {\n",
       "        vertical-align: middle;\n",
       "    }\n",
       "\n",
       "    .dataframe tbody tr th {\n",
       "        vertical-align: top;\n",
       "    }\n",
       "\n",
       "    .dataframe thead th {\n",
       "        text-align: right;\n",
       "    }\n",
       "</style>\n",
       "<table border=\"1\" class=\"dataframe\">\n",
       "  <thead>\n",
       "    <tr style=\"text-align: right;\">\n",
       "      <th></th>\n",
       "      <th>barely true</th>\n",
       "      <th>false</th>\n",
       "      <th>half true</th>\n",
       "      <th>mostly ture</th>\n",
       "      <th>pants on fire</th>\n",
       "    </tr>\n",
       "  </thead>\n",
       "  <tbody>\n",
       "    <tr>\n",
       "      <td>count</td>\n",
       "      <td>10238.000000</td>\n",
       "      <td>10238.000000</td>\n",
       "      <td>10238.000000</td>\n",
       "      <td>10238.000000</td>\n",
       "      <td>10238.000000</td>\n",
       "    </tr>\n",
       "    <tr>\n",
       "      <td>mean</td>\n",
       "      <td>11.533210</td>\n",
       "      <td>13.286482</td>\n",
       "      <td>17.133718</td>\n",
       "      <td>16.434265</td>\n",
       "      <td>6.201407</td>\n",
       "    </tr>\n",
       "    <tr>\n",
       "      <td>std</td>\n",
       "      <td>18.973764</td>\n",
       "      <td>24.112936</td>\n",
       "      <td>35.846511</td>\n",
       "      <td>36.151688</td>\n",
       "      <td>16.128927</td>\n",
       "    </tr>\n",
       "    <tr>\n",
       "      <td>min</td>\n",
       "      <td>0.000000</td>\n",
       "      <td>0.000000</td>\n",
       "      <td>0.000000</td>\n",
       "      <td>0.000000</td>\n",
       "      <td>0.000000</td>\n",
       "    </tr>\n",
       "    <tr>\n",
       "      <td>25%</td>\n",
       "      <td>0.000000</td>\n",
       "      <td>0.000000</td>\n",
       "      <td>0.000000</td>\n",
       "      <td>0.000000</td>\n",
       "      <td>0.000000</td>\n",
       "    </tr>\n",
       "    <tr>\n",
       "      <td>50%</td>\n",
       "      <td>2.000000</td>\n",
       "      <td>2.000000</td>\n",
       "      <td>3.000000</td>\n",
       "      <td>3.000000</td>\n",
       "      <td>1.000000</td>\n",
       "    </tr>\n",
       "    <tr>\n",
       "      <td>75%</td>\n",
       "      <td>12.000000</td>\n",
       "      <td>12.000000</td>\n",
       "      <td>13.000000</td>\n",
       "      <td>11.000000</td>\n",
       "      <td>5.000000</td>\n",
       "    </tr>\n",
       "    <tr>\n",
       "      <td>max</td>\n",
       "      <td>70.000000</td>\n",
       "      <td>114.000000</td>\n",
       "      <td>160.000000</td>\n",
       "      <td>163.000000</td>\n",
       "      <td>105.000000</td>\n",
       "    </tr>\n",
       "  </tbody>\n",
       "</table>\n",
       "</div>"
      ],
      "text/plain": [
       "        barely true         false     half true   mostly ture  pants on fire\n",
       "count  10238.000000  10238.000000  10238.000000  10238.000000   10238.000000\n",
       "mean      11.533210     13.286482     17.133718     16.434265       6.201407\n",
       "std       18.973764     24.112936     35.846511     36.151688      16.128927\n",
       "min        0.000000      0.000000      0.000000      0.000000       0.000000\n",
       "25%        0.000000      0.000000      0.000000      0.000000       0.000000\n",
       "50%        2.000000      2.000000      3.000000      3.000000       1.000000\n",
       "75%       12.000000     12.000000     13.000000     11.000000       5.000000\n",
       "max       70.000000    114.000000    160.000000    163.000000     105.000000"
      ]
     },
     "execution_count": 19,
     "metadata": {},
     "output_type": "execute_result"
    }
   ],
   "source": [
    "train_data.head(n=1)\n",
    "test_data.head(n=1)\n",
    "valid_data.head(n=1)\n",
    "train_data.dtypes\n",
    "train_data.describe()  #analytical attributes of features"
   ]
  },
  {
   "cell_type": "markdown",
   "metadata": {},
   "source": [
    "# Data cleaning\n",
    "Isolating the statement needed for feature extraction, and the label of fake/not fake"
   ]
  },
  {
   "cell_type": "code",
   "execution_count": 20,
   "metadata": {},
   "outputs": [],
   "source": [
    "#prepare text for feature extraction\n",
    "train_statement = train_data[\"statement\"]\n",
    "test_statement = test_data[\"statement\"]\n",
    "valid_statement = valid_data[\"statement\"]\n",
    "#dividing news accuracy labels into fake/not fake from original categorization, for training, testing, and valid datasets\n",
    "train_label = train_data[\"label\"]\n",
    "train_label = train_label.replace(\"true\",\"Not Fake\")\n",
    "train_label = train_label.replace(\"half-true\", \"Not Fake\")\n",
    "train_label = train_label.replace(\"mostly-true\", \"Not Fake\")\n",
    "train_label = train_label.replace(\"false\",\"Fake\")\n",
    "train_label = train_label.replace(\"pants-fire\",\"Fake\")\n",
    "train_label = train_label.replace(\"barely-true\",\"Fake\")\n",
    "\n",
    "test_label = test_data[\"label\"]\n",
    "test_label = test_label.replace(\"true\",\"Not Fake\")\n",
    "test_label = test_label.replace(\"half-true\", \"Not Fake\")\n",
    "test_label = test_label.replace(\"mostly-true\", \"Not Fake\")\n",
    "test_label = test_label.replace(\"false\",\"Fake\")\n",
    "test_label = test_label.replace(\"pants-fire\",\"Fake\")\n",
    "test_label = test_label.replace(\"barely-true\",\"Fake\")\n",
    "\n",
    "valid_label = valid_data[\"label\"]\n",
    "valid_label = valid_label.replace(\"true\",\"Not Fake\")\n",
    "valid_label = valid_label.replace(\"half-true\", \"Not Fake\")\n",
    "valid_label = valid_label.replace(\"mostly-true\", \"Not Fake\")\n",
    "valid_label = valid_label.replace(\"false\",\"Fake\")\n",
    "valid_label = valid_label.replace(\"pants-fire\",\"Fake\")\n",
    "valid_label = valid_label.replace(\"barely-true\",\"Fake\")"
   ]
  },
  {
   "cell_type": "markdown",
   "metadata": {},
   "source": [
    "# Feature extraction\n",
    "For each statement in dataset, define the methods to extract the 15 features listed"
   ]
  },
  {
   "cell_type": "code",
   "execution_count": 21,
   "metadata": {},
   "outputs": [],
   "source": [
    "vectorizer = CountVectorizer()\n",
    "train_count = vectorizer.fit_transform(train_data[\"statement\"].values)\n",
    "\n",
    "#stemming\n",
    "def stem_tokens(tokens, stemmer):\n",
    "    stemmed = []\n",
    "    for token in tokens:\n",
    "        stemmed.append(stemmer.stem(token))\n",
    "    return stemmed\n",
    "\n",
    "#POS-tagging\n",
    "def tagging(str):\n",
    "    text = nltk.word_tokenize(str)\n",
    "    tagged = nltk.pos_tag(text)\n",
    "    return tagged\n",
    "\n",
    "#Complexity\n",
    "#1.character count\n",
    "def count_char(str):\n",
    "    char = RegexpTokenizer(r'\\w+').tokenize(str)\n",
    "    return len(char)\n",
    "#2.word count\n",
    "def count_word(str):\n",
    "    word = word_tokenize(str)\n",
    "    return len(word)\n",
    "#3.sentence count\n",
    "def count_sentence(str):\n",
    "    sentence = sent_tokenize(str)\n",
    "    return sentence\n",
    "#4.paragraph count\n",
    "#since text data is a statement, and there is no systematic way of knowing where a paragraph ends,\n",
    "#this feature is not viable for this project\n",
    "\n",
    "#Complexity\n",
    "#5.average number of character per word\n",
    "def avg_char_per_word(str):\n",
    "    word = word_tokenize(str)\n",
    "    for element in word:\n",
    "        char = RegexpTokenizer(r'\\w+').tokenize(element)\n",
    "        charCount += len(char)\n",
    "    avg = charCount/len(word)\n",
    "    return avg\n",
    "\n",
    "#6.average number of punctuation per sentence\n",
    "def avg_punc_per_sent(str):\n",
    "    word = word_tokenize(str)\n",
    "    wordPunc = WordPunctTokenizer().tokenize(str)\n",
    "    sentence = sent_tokenize(str)\n",
    "    avg = (len(wordPunc)-len(word))/len(sentence)\n",
    "    return avg\n",
    "\n",
    "#Uncertainty\n",
    "#7.percentage of certainty terms\n",
    "\n",
    "#8.percentage of gerneralizing terms\n",
    "\n",
    "#9.percentage of numbers and quantifiers\n",
    "\n",
    "#Subjectivity\n",
    "#10.percentage of imperative commands\n",
    "\n",
    "#Non-immediacy\n",
    "#11.percentage of rhetorical questions\n",
    "#cannot find related libary for rhetorical questions, don't know how to identify rhetoical questions\n",
    "\n",
    "#Sentiment\n",
    "#12.number of exclamation mark\n",
    "def count_excl(str):\n",
    "    count = str.count(\"!\")\n",
    "    return count\n",
    "\n",
    "#Diversity\n",
    "#13.content word diversity: unique content words (%)\n",
    "def unique_words(str):\n",
    "    word_t = word_tokenize(str)\n",
    "    unique_words=[word for word in word_t if word not in unique_words]\n",
    "    percentage = len(unique_words)/len(word_t)\n",
    "    return percentage\n",
    "\n",
    "\n",
    "#Informality\n",
    "#14.Typographical error ratio: misspelled words (%)\n",
    "def count_typo(tag):\n",
    "    if(tag == \"X\"):\n",
    "        typo += 1\n",
    "    return typo\n",
    "\n",
    "#Specificity\n",
    "#15.Temporal ratio\n"
   ]
  },
  {
   "cell_type": "code",
   "execution_count": 22,
   "metadata": {},
   "outputs": [],
   "source": [
    "#Complexity\n",
    "#1.character count\n",
    "char_count = []\n",
    "\n",
    "#2.word count\n",
    "word_count = []\n",
    "#3.sentence count\n",
    "sent_count = []\n",
    "#4.paragraph count\n",
    "#since text data is a statement, and there is no systematic way of knowing where a paragraph ends,\n",
    "#this feature is not viable for this project\n",
    "\n",
    "#Complexity\n",
    "#5.average number of character per word\n",
    "avg_char_per_word_count = []\n",
    "#6.average number of punctuation per sentence\n",
    "avg_punc_per_sent_count = []\n",
    "#Uncertainty\n",
    "#7.percentage of certainty terms\n",
    "percentage_certainty = []\n",
    "#8.percentage of gerneralizing terms\n",
    "percentage_generalizing = []\n",
    "#9.percentage of numbers and quantifiers\n",
    "percentage_numbers = []\n",
    "#Subjectivity\n",
    "#10.percentage of imperative commands\n",
    "\n",
    "#Non-immediacy\n",
    "#11.percentage of rhetorical questions\n",
    "#cannot find related libary for rhetorical questions, don't know how to identify rhetoical questions\n",
    "\n",
    "#Sentiment\n",
    "#12.number of exclamation mark\n",
    "excl_count = []\n",
    "#Diversity\n",
    "#13.content word diversity: unique content words (%)\n",
    "unique_count = []\n",
    "#Informality\n",
    "#14.Typographical error ratio: misspelled words (%)\n",
    "typo_count = []\n",
    "#Specificity\n",
    "#15.Temporal ratio\n",
    "temporal_count = []\n",
    "\n",
    "#for every statement in train_statement make a dataset with the extracted features\n",
    "for statement in train_statement:\n",
    "    char_count.append(count_char(statement))\n",
    "    word_count.append(count_word(statement))\n",
    "char_count_series = pd.Series(char_count)\n",
    "word_count_series = pd.Series(word_count)\n",
    "train_data_cleaned = pd.concat([train_statement, train_label, char_count_series, word_count_series], axis=1)\n",
    "train_data_cleaned.rename(columns={'statement': 'statement', 'label': 'label', 0: 'char_count', 1: 'word_count'}, inplace=True)\n",
    "\n",
    "#for every statement in test_statement make a dataset with the extracted features\n",
    "char_count = [] #reset all lists \n",
    "for statement in test_statement:\n",
    "    char_count.append(count_char(statement))\n",
    "    word_count.append(count_word(statement))\n",
    "char_count_series = pd.Series(char_count)\n",
    "word_count_series = pd.Series(word_count)\n",
    "test_data_cleaned = pd.concat([test_statement, test_label, char_count_series, word_count_series], axis=1)\n",
    "test_data_cleaned.rename(columns={'statement': 'statement', 'label': 'label', 0: 'char_count', 1: 'word_count'}, inplace=True)"
   ]
  },
  {
   "cell_type": "markdown",
   "metadata": {},
   "source": [
    "# Data preprocessing"
   ]
  },
  {
   "cell_type": "code",
   "execution_count": 23,
   "metadata": {
    "scrolled": true
   },
   "outputs": [],
   "source": [
    "LE = preprocessing.LabelEncoder()\n",
    "#fake = 0, not fake = 1\n",
    "train_data_cleaned['label'] = LE.fit_transform(train_data_cleaned['label'].astype(str))\n",
    "test_data_cleaned['label'] = LE.fit_transform(test_data_cleaned['label'].astype(str))\n"
   ]
  },
  {
   "cell_type": "markdown",
   "metadata": {},
   "source": [
    "# Model training"
   ]
  },
  {
   "cell_type": "code",
   "execution_count": 24,
   "metadata": {},
   "outputs": [
    {
     "data": {
      "text/html": [
       "<img src=\"https://qph.fs.quoracdn.net/main-qimg-65e581f52fafa1cd6021a721e2ec1616\"/>"
      ],
      "text/plain": [
       "<IPython.core.display.Image object>"
      ]
     },
     "execution_count": 24,
     "metadata": {},
     "output_type": "execute_result"
    }
   ],
   "source": [
    "#image of machine learning model selection map\n",
    "Image(url= \"https://qph.fs.quoracdn.net/main-qimg-65e581f52fafa1cd6021a721e2ec1616\")"
   ]
  },
  {
   "cell_type": "code",
   "execution_count": 25,
   "metadata": {},
   "outputs": [
    {
     "name": "stdout",
     "output_type": "stream",
     "text": [
      "['label', 'char_count']\n"
     ]
    }
   ],
   "source": [
    "cols = [col for col in train_data_cleaned.columns if col not in ['label', 'statement']]\n",
    "print(cols)"
   ]
  },
  {
   "cell_type": "code",
   "execution_count": 26,
   "metadata": {},
   "outputs": [],
   "source": [
    "X_train = train_data_cleaned[cols]\n",
    "y_train = train_data_cleaned['label']\n",
    "X_test = test_data_cleaned[cols]\n",
    "y_test = test_data_cleaned['label']"
   ]
  },
  {
   "cell_type": "code",
   "execution_count": 27,
   "metadata": {},
   "outputs": [],
   "source": [
    "X_train = X_train.fillna(X_train.mean())\n",
    "y_train = y_train.fillna(y_train.mean())\n",
    "X_test = X_test.fillna(X_test.mean())\n",
    "y_test = y_test.fillna(y_test.mean())"
   ]
  },
  {
   "cell_type": "code",
   "execution_count": 28,
   "metadata": {},
   "outputs": [],
   "source": [
    "#Naive Bayes\n",
    "gnb = GaussianNB()\n",
    "pred_nb = gnb.fit(X_train, y_train).predict(X_test)"
   ]
  },
  {
   "cell_type": "markdown",
   "metadata": {},
   "source": [
    "# Model performance"
   ]
  },
  {
   "cell_type": "code",
   "execution_count": 29,
   "metadata": {},
   "outputs": [
    {
     "data": {
      "text/plain": [
       "ClassificationReport(ax=<matplotlib.axes._subplots.AxesSubplot object at 0x000001506260E848>,\n",
       "                     classes=None,\n",
       "                     cmap=<matplotlib.colors.ListedColormap object at 0x0000015061DD8FC8>,\n",
       "                     encoder=None, force_model=False, is_fitted='auto',\n",
       "                     model=None, support=None)"
      ]
     },
     "execution_count": 29,
     "metadata": {},
     "output_type": "execute_result"
    },
    {
     "name": "stderr",
     "output_type": "stream",
     "text": [
      "C:\\Users\\mingj\\Anaconda3\\lib\\site-packages\\sklearn\\metrics\\classification.py:1437: UndefinedMetricWarning: Precision and F-score are ill-defined and being set to 0.0 in labels with no predicted samples.\n",
      "  'precision', 'predicted', average, warn_for)\n"
     ]
    },
    {
     "data": {
      "text/plain": [
       "0.11010689145737378"
      ]
     },
     "execution_count": 29,
     "metadata": {},
     "output_type": "execute_result"
    },
    {
     "data": {
      "image/png": "[encoded data removed]",
      "text/plain": [
       "<Figure size 432x288 with 2 Axes>"
      ]
     },
     "metadata": {
      "needs_background": "light"
     },
     "output_type": "display_data"
    },
    {
     "name": "stdout",
     "output_type": "stream",
     "text": [
      "[[  553     0     0]\n",
      " [    0   714     0]\n",
      " [    0 10240     0]]\n"
     ]
    }
   ],
   "source": [
    "visualizer_nb = ClassificationReport(gnb)\n",
    "visualizer_nb.fit(X_train, y_train) # Fit the training data to the visualizer\n",
    "visualizer_nb.score(X_test, y_test) # Evaluate the model on the test data\n",
    "g = visualizer_nb.poof() # Draw/show/poof the data\n",
    "\n",
    "conf_matrix = confusion_matrix(y_test, pred_nb)\n",
    "print(conf_matrix)"
   ]
  },
  {
   "cell_type": "code",
   "execution_count": null,
   "metadata": {},
   "outputs": [],
   "source": []
  }
 ],
 "metadata": {
  "kernelspec": {
   "display_name": "Python 3",
   "language": "python",
   "name": "python3"
  },
  "language_info": {
   "codemirror_mode": {
    "name": "ipython",
    "version": 3
   },
   "file_extension": ".py",
   "mimetype": "text/x-python",
   "name": "python",
   "nbconvert_exporter": "python",
   "pygments_lexer": "ipython3",
   "version": "3.7.4"
  }
 },
 "nbformat": 4,
 "nbformat_minor": 2
}
